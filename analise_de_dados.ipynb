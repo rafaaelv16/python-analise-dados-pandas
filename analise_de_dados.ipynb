{
  "nbformat": 4,
  "nbformat_minor": 0,
  "metadata": {
    "colab": {
      "name": "analise-de-dados.ipynb",
      "provenance": [],
      "collapsed_sections": [],
      "mount_file_id": "1yOxqf6syx3B0zpBRvHalP2ZM-x_t3k6O",
      "authorship_tag": "ABX9TyNpm2Jk7wQ4d7zZOVw/ZTMo",
      "include_colab_link": true
    },
    "kernelspec": {
      "name": "python3",
      "display_name": "Python 3"
    },
    "language_info": {
      "name": "python"
    }
  },
  "cells": [
    {
      "cell_type": "markdown",
      "metadata": {
        "id": "view-in-github",
        "colab_type": "text"
      },
      "source": [
        "<a href=\"https://colab.research.google.com/github/rafaaelv16/python-analise-dados-pandas/blob/main/analise_de_dados.ipynb\" target=\"_parent\"><img src=\"https://colab.research.google.com/assets/colab-badge.svg\" alt=\"Open In Colab\"/></a>"
      ]
    },
    {
      "cell_type": "code",
      "metadata": {
        "id": "evOO242KZu3w"
      },
      "source": [
        "#importar o pandas\n",
        "import pandas as pd"
      ],
      "execution_count": 121,
      "outputs": []
    },
    {
      "cell_type": "code",
      "metadata": {
        "id": "Gh3hKvOyI7v1"
      },
      "source": [
        "#instalando o Pacote pandera que fará a validação dos nossos dados"
      ],
      "execution_count": 122,
      "outputs": []
    },
    {
      "cell_type": "code",
      "metadata": {
        "colab": {
          "base_uri": "https://localhost:8080/"
        },
        "id": "LGDMZBJFYG29",
        "outputId": "3ee9a2b1-b9a8-48e4-ec0e-e98ed6bba8cd"
      },
      "source": [
        "pip install pandera"
      ],
      "execution_count": 123,
      "outputs": [
        {
          "output_type": "stream",
          "name": "stdout",
          "text": [
            "Requirement already satisfied: pandera in /usr/local/lib/python3.7/dist-packages (0.7.2)\n",
            "Requirement already satisfied: pyarrow in /usr/local/lib/python3.7/dist-packages (from pandera) (3.0.0)\n",
            "Requirement already satisfied: packaging>=20.0 in /usr/local/lib/python3.7/dist-packages (from pandera) (21.0)\n",
            "Requirement already satisfied: pandas>=1.0 in /usr/local/lib/python3.7/dist-packages (from pandera) (1.1.5)\n",
            "Requirement already satisfied: numpy>=1.9.0 in /usr/local/lib/python3.7/dist-packages (from pandera) (1.19.5)\n",
            "Requirement already satisfied: wrapt in /usr/local/lib/python3.7/dist-packages (from pandera) (1.12.1)\n",
            "Requirement already satisfied: typing-extensions>=3.7.4.3 in /usr/local/lib/python3.7/dist-packages (from pandera) (3.7.4.3)\n",
            "Requirement already satisfied: typing-inspect>=0.6.0 in /usr/local/lib/python3.7/dist-packages (from pandera) (0.7.1)\n",
            "Requirement already satisfied: pyparsing>=2.0.2 in /usr/local/lib/python3.7/dist-packages (from packaging>=20.0->pandera) (2.4.7)\n",
            "Requirement already satisfied: pytz>=2017.2 in /usr/local/lib/python3.7/dist-packages (from pandas>=1.0->pandera) (2018.9)\n",
            "Requirement already satisfied: python-dateutil>=2.7.3 in /usr/local/lib/python3.7/dist-packages (from pandas>=1.0->pandera) (2.8.2)\n",
            "Requirement already satisfied: six>=1.5 in /usr/local/lib/python3.7/dist-packages (from python-dateutil>=2.7.3->pandas>=1.0->pandera) (1.15.0)\n",
            "Requirement already satisfied: mypy-extensions>=0.3.0 in /usr/local/lib/python3.7/dist-packages (from typing-inspect>=0.6.0->pandera) (0.4.3)\n"
          ]
        }
      ]
    },
    {
      "cell_type": "code",
      "metadata": {
        "id": "VOL9HFJ2JCC8"
      },
      "source": [
        "#instalando o pacote matplotlib que será usado para plotar os nossos gráfico"
      ],
      "execution_count": 124,
      "outputs": []
    },
    {
      "cell_type": "code",
      "metadata": {
        "colab": {
          "base_uri": "https://localhost:8080/"
        },
        "id": "y6JPfH71JKDm",
        "outputId": "297e4c9a-45b8-4ffb-8c1c-54464b792696"
      },
      "source": [
        "pip install matplotlib"
      ],
      "execution_count": 125,
      "outputs": [
        {
          "output_type": "stream",
          "name": "stdout",
          "text": [
            "Requirement already satisfied: matplotlib in /usr/local/lib/python3.7/dist-packages (3.2.2)\n",
            "Requirement already satisfied: cycler>=0.10 in /usr/local/lib/python3.7/dist-packages (from matplotlib) (0.10.0)\n",
            "Requirement already satisfied: pyparsing!=2.0.4,!=2.1.2,!=2.1.6,>=2.0.1 in /usr/local/lib/python3.7/dist-packages (from matplotlib) (2.4.7)\n",
            "Requirement already satisfied: numpy>=1.11 in /usr/local/lib/python3.7/dist-packages (from matplotlib) (1.19.5)\n",
            "Requirement already satisfied: python-dateutil>=2.1 in /usr/local/lib/python3.7/dist-packages (from matplotlib) (2.8.2)\n",
            "Requirement already satisfied: kiwisolver>=1.0.1 in /usr/local/lib/python3.7/dist-packages (from matplotlib) (1.3.2)\n",
            "Requirement already satisfied: six in /usr/local/lib/python3.7/dist-packages (from cycler>=0.10->matplotlib) (1.15.0)\n"
          ]
        }
      ]
    },
    {
      "cell_type": "code",
      "metadata": {
        "id": "09tj-jpeJNqb"
      },
      "source": [
        "#importar o matplotlib\n",
        "from matplotlib import pyplot as plt"
      ],
      "execution_count": 126,
      "outputs": []
    },
    {
      "cell_type": "code",
      "metadata": {
        "id": "gwbPYvfWX4Gd"
      },
      "source": [
        "#importar o pandera\n",
        "import pandera as pa"
      ],
      "execution_count": 127,
      "outputs": []
    },
    {
      "cell_type": "code",
      "metadata": {
        "id": "jr9TKIwtZptq"
      },
      "source": [
        "#carregar os dados para o df\n",
        "df = pd.read_excel('/content/drive/MyDrive/Colab Notebooks/taxigov_geral_limpa.xlsx')\n"
      ],
      "execution_count": 128,
      "outputs": []
    },
    {
      "cell_type": "code",
      "metadata": {
        "colab": {
          "base_uri": "https://localhost:8080/",
          "height": 774
        },
        "id": "l0Twpzvniq0t",
        "outputId": "84bfc24e-8cbc-47d8-c63d-2cd25635b4ae"
      },
      "source": [
        "df"
      ],
      "execution_count": 129,
      "outputs": [
        {
          "output_type": "execute_result",
          "data": {
            "text/html": [
              "<div>\n",
              "<style scoped>\n",
              "    .dataframe tbody tr th:only-of-type {\n",
              "        vertical-align: middle;\n",
              "    }\n",
              "\n",
              "    .dataframe tbody tr th {\n",
              "        vertical-align: top;\n",
              "    }\n",
              "\n",
              "    .dataframe thead th {\n",
              "        text-align: right;\n",
              "    }\n",
              "</style>\n",
              "<table border=\"1\" class=\"dataframe\">\n",
              "  <thead>\n",
              "    <tr style=\"text-align: right;\">\n",
              "      <th></th>\n",
              "      <th>id_TaxiGov</th>\n",
              "      <th>QRU_Corrida</th>\n",
              "      <th>Status_Corrida</th>\n",
              "      <th>Nome_Orgao</th>\n",
              "      <th>km_total</th>\n",
              "      <th>Valor_Corrida</th>\n",
              "      <th>Data_Inicio</th>\n",
              "      <th>Data_Final</th>\n",
              "      <th>Origem_Endereco</th>\n",
              "      <th>Origem_Cidade</th>\n",
              "      <th>Origem_UF</th>\n",
              "      <th>Destino_Solicitado_Endereco</th>\n",
              "    </tr>\n",
              "  </thead>\n",
              "  <tbody>\n",
              "    <tr>\n",
              "      <th>0</th>\n",
              "      <td>TAXIGOV_DF</td>\n",
              "      <td>6</td>\n",
              "      <td>CONCLUÍDA</td>\n",
              "      <td>Ministério da Economia</td>\n",
              "      <td>1.5</td>\n",
              "      <td>5.8</td>\n",
              "      <td>2019-08-15 14:15:22.763</td>\n",
              "      <td>2019-08-15 14:19:35.510</td>\n",
              "      <td>MINISTÉRIO DA ECONOMIA - BLOCO C</td>\n",
              "      <td>BRASILIA</td>\n",
              "      <td>DF</td>\n",
              "      <td>MINISTÉRIO DO PLANEJAMENTO, DESENVOLVIMENTO E ...</td>\n",
              "    </tr>\n",
              "    <tr>\n",
              "      <th>1</th>\n",
              "      <td>TAXIGOV_DF</td>\n",
              "      <td>7</td>\n",
              "      <td>CONCLUÍDA</td>\n",
              "      <td>Ministério da Economia</td>\n",
              "      <td>1.1</td>\n",
              "      <td>5.8</td>\n",
              "      <td>2019-08-16 10:12:51.743</td>\n",
              "      <td>2019-08-16 10:17:06.587</td>\n",
              "      <td>MINISTÉRIO DO PLANEJAMENTO ORÇAMENTO E GESTÃƒO</td>\n",
              "      <td>BRASILIA</td>\n",
              "      <td>DF</td>\n",
              "      <td>MINISTÉRIO DA ECONOMIA - ANEXO DO BLOCO F - BR...</td>\n",
              "    </tr>\n",
              "    <tr>\n",
              "      <th>2</th>\n",
              "      <td>TAXIGOV_DF</td>\n",
              "      <td>8</td>\n",
              "      <td>CONCLUÍDA</td>\n",
              "      <td>Ministério da Economia</td>\n",
              "      <td>0.7</td>\n",
              "      <td>5.8</td>\n",
              "      <td>2019-08-16 14:20:23.457</td>\n",
              "      <td>2019-08-16 14:38:49.707</td>\n",
              "      <td>MINISTÉRIO DA ECONOMIA - BLOCO C</td>\n",
              "      <td>BRASILIA</td>\n",
              "      <td>DF</td>\n",
              "      <td>MINISTÉRIO DO PLANEJAMENTO, DESENVOLVIMENTO E ...</td>\n",
              "    </tr>\n",
              "    <tr>\n",
              "      <th>3</th>\n",
              "      <td>TAXIGOV_DF</td>\n",
              "      <td>15</td>\n",
              "      <td>CONCLUÍDA</td>\n",
              "      <td>Ministério da Economia</td>\n",
              "      <td>15.0</td>\n",
              "      <td>58.0</td>\n",
              "      <td>2019-08-19 10:18:02.240</td>\n",
              "      <td>2019-08-19 10:22:28.993</td>\n",
              "      <td>MINISTÉRIO DO PLANEJAMENTO ORÇAMENTO E GESTÃƒO</td>\n",
              "      <td>BRASILIA</td>\n",
              "      <td>DF</td>\n",
              "      <td>0 - ASA NORTE - BRASÍLIA / DF</td>\n",
              "    </tr>\n",
              "    <tr>\n",
              "      <th>4</th>\n",
              "      <td>TAXIGOV_DF</td>\n",
              "      <td>16</td>\n",
              "      <td>CONCLUÍDA</td>\n",
              "      <td>Ministério da Economia</td>\n",
              "      <td>27.0</td>\n",
              "      <td>78.3</td>\n",
              "      <td>2019-08-19 14:11:22.417</td>\n",
              "      <td>2019-08-19 14:37:04.907</td>\n",
              "      <td>MINISTÉRIO DA ECONOMIA - BLOCO C</td>\n",
              "      <td>BRASILIA</td>\n",
              "      <td>DF</td>\n",
              "      <td>MINISTÉRIO DA ECONOMIA - BLOCO F - ZONA CÃVIC...</td>\n",
              "    </tr>\n",
              "    <tr>\n",
              "      <th>...</th>\n",
              "      <td>...</td>\n",
              "      <td>...</td>\n",
              "      <td>...</td>\n",
              "      <td>...</td>\n",
              "      <td>...</td>\n",
              "      <td>...</td>\n",
              "      <td>...</td>\n",
              "      <td>...</td>\n",
              "      <td>...</td>\n",
              "      <td>...</td>\n",
              "      <td>...</td>\n",
              "      <td>...</td>\n",
              "    </tr>\n",
              "    <tr>\n",
              "      <th>276588</th>\n",
              "      <td>TAXIGOV_SP_10</td>\n",
              "      <td>169662</td>\n",
              "      <td>NaN</td>\n",
              "      <td>BANCO CENTRAL DO BRASIL</td>\n",
              "      <td>4.4</td>\n",
              "      <td>13.27</td>\n",
              "      <td>2021-09-01 13:32:04.000</td>\n",
              "      <td>2021-09-01 13:47:13.000</td>\n",
              "      <td>AVENIDA MARQUES DE SAO VICENTE</td>\n",
              "      <td>SAO PAULO</td>\n",
              "      <td>SP</td>\n",
              "      <td>R. MIN. FERREIRA ALVES, 1035 - POMPEIA, SAO PA...</td>\n",
              "    </tr>\n",
              "    <tr>\n",
              "      <th>276589</th>\n",
              "      <td>TAXIGOV_SP_10</td>\n",
              "      <td>171016</td>\n",
              "      <td>NaN</td>\n",
              "      <td>ANAC</td>\n",
              "      <td>7.55</td>\n",
              "      <td>22.64</td>\n",
              "      <td>2021-09-08 20:08:24.000</td>\n",
              "      <td>2021-09-08 20:24:07.000</td>\n",
              "      <td>RUA ATICA</td>\n",
              "      <td>SAO PAULO</td>\n",
              "      <td>SP</td>\n",
              "      <td>RUA CORREIA DE LEMOS, 703 - VILA DA SAUDE, SAO...</td>\n",
              "    </tr>\n",
              "    <tr>\n",
              "      <th>276590</th>\n",
              "      <td>TAXIGOV_SP_10</td>\n",
              "      <td>169689</td>\n",
              "      <td>NaN</td>\n",
              "      <td>DATAPREV</td>\n",
              "      <td>16.94</td>\n",
              "      <td>50.8</td>\n",
              "      <td>2021-09-01 15:08:42.000</td>\n",
              "      <td>2021-09-01 15:53:05.000</td>\n",
              "      <td>RUA DOUTOR MANOEL VITORINO</td>\n",
              "      <td>SAO PAULO</td>\n",
              "      <td>SP</td>\n",
              "      <td>R. RIO DA PRATA, 158 - ITAIM BIBI, SAO PAULO -...</td>\n",
              "    </tr>\n",
              "    <tr>\n",
              "      <th>276591</th>\n",
              "      <td>TAXIGOV_SP_10</td>\n",
              "      <td>169705</td>\n",
              "      <td>NaN</td>\n",
              "      <td>DATAPREV</td>\n",
              "      <td>14.38</td>\n",
              "      <td>43.23</td>\n",
              "      <td>2021-09-01 15:57:04.000</td>\n",
              "      <td>2021-09-01 16:45:34.000</td>\n",
              "      <td>RUA RIO DA PRATA</td>\n",
              "      <td>SAO PAULO</td>\n",
              "      <td>SP</td>\n",
              "      <td>RUA DOUTOR MANOEL VITORINO, 343 - BRAS, SAO PA...</td>\n",
              "    </tr>\n",
              "    <tr>\n",
              "      <th>276592</th>\n",
              "      <td>TAXIGOV_SP_10</td>\n",
              "      <td>169713</td>\n",
              "      <td>NaN</td>\n",
              "      <td>IBGE</td>\n",
              "      <td>17.14</td>\n",
              "      <td>51.72</td>\n",
              "      <td>2021-09-01 16:21:15.000</td>\n",
              "      <td>2021-09-01 17:39:52.000</td>\n",
              "      <td>RUA URUSSUI</td>\n",
              "      <td>SAO PAULO</td>\n",
              "      <td>SP</td>\n",
              "      <td>AV. MORVAN DIAS DE FIGUEIREDO, 3231 - VILA MAR...</td>\n",
              "    </tr>\n",
              "  </tbody>\n",
              "</table>\n",
              "<p>276593 rows × 12 columns</p>\n",
              "</div>"
            ],
            "text/plain": [
              "           id_TaxiGov  ...                        Destino_Solicitado_Endereco\n",
              "0          TAXIGOV_DF  ...  MINISTÉRIO DO PLANEJAMENTO, DESENVOLVIMENTO E ...\n",
              "1          TAXIGOV_DF  ...  MINISTÉRIO DA ECONOMIA - ANEXO DO BLOCO F - BR...\n",
              "2          TAXIGOV_DF  ...  MINISTÉRIO DO PLANEJAMENTO, DESENVOLVIMENTO E ...\n",
              "3          TAXIGOV_DF  ...                      0 - ASA NORTE - BRASÍLIA / DF\n",
              "4          TAXIGOV_DF  ...  MINISTÉRIO DA ECONOMIA - BLOCO F - ZONA CÃVIC...\n",
              "...               ...  ...                                                ...\n",
              "276588  TAXIGOV_SP_10  ...  R. MIN. FERREIRA ALVES, 1035 - POMPEIA, SAO PA...\n",
              "276589  TAXIGOV_SP_10  ...  RUA CORREIA DE LEMOS, 703 - VILA DA SAUDE, SAO...\n",
              "276590  TAXIGOV_SP_10  ...  R. RIO DA PRATA, 158 - ITAIM BIBI, SAO PAULO -...\n",
              "276591  TAXIGOV_SP_10  ...  RUA DOUTOR MANOEL VITORINO, 343 - BRAS, SAO PA...\n",
              "276592  TAXIGOV_SP_10  ...  AV. MORVAN DIAS DE FIGUEIREDO, 3231 - VILA MAR...\n",
              "\n",
              "[276593 rows x 12 columns]"
            ]
          },
          "metadata": {},
          "execution_count": 129
        }
      ]
    },
    {
      "cell_type": "code",
      "metadata": {
        "id": "BV6LQj3KiZG6"
      },
      "source": [
        "#criar um novo DataFrame somente as corridas que foram concluídas\n",
        "filtro = (df.Status_Corrida == 'CONCLUÍDA') & (df.km_total.notnull())\n",
        "cc = df.loc[filtro]"
      ],
      "execution_count": 130,
      "outputs": []
    },
    {
      "cell_type": "code",
      "metadata": {
        "id": "gcZug-Nqiuj3",
        "colab": {
          "base_uri": "https://localhost:8080/",
          "height": 791
        },
        "outputId": "1792b20c-b199-4949-f222-b3809221cd04"
      },
      "source": [
        "cc"
      ],
      "execution_count": 131,
      "outputs": [
        {
          "output_type": "execute_result",
          "data": {
            "text/html": [
              "<div>\n",
              "<style scoped>\n",
              "    .dataframe tbody tr th:only-of-type {\n",
              "        vertical-align: middle;\n",
              "    }\n",
              "\n",
              "    .dataframe tbody tr th {\n",
              "        vertical-align: top;\n",
              "    }\n",
              "\n",
              "    .dataframe thead th {\n",
              "        text-align: right;\n",
              "    }\n",
              "</style>\n",
              "<table border=\"1\" class=\"dataframe\">\n",
              "  <thead>\n",
              "    <tr style=\"text-align: right;\">\n",
              "      <th></th>\n",
              "      <th>id_TaxiGov</th>\n",
              "      <th>QRU_Corrida</th>\n",
              "      <th>Status_Corrida</th>\n",
              "      <th>Nome_Orgao</th>\n",
              "      <th>km_total</th>\n",
              "      <th>Valor_Corrida</th>\n",
              "      <th>Data_Inicio</th>\n",
              "      <th>Data_Final</th>\n",
              "      <th>Origem_Endereco</th>\n",
              "      <th>Origem_Cidade</th>\n",
              "      <th>Origem_UF</th>\n",
              "      <th>Destino_Solicitado_Endereco</th>\n",
              "    </tr>\n",
              "  </thead>\n",
              "  <tbody>\n",
              "    <tr>\n",
              "      <th>0</th>\n",
              "      <td>TAXIGOV_DF</td>\n",
              "      <td>6</td>\n",
              "      <td>CONCLUÍDA</td>\n",
              "      <td>Ministério da Economia</td>\n",
              "      <td>1.5</td>\n",
              "      <td>5.8</td>\n",
              "      <td>2019-08-15 14:15:22.763</td>\n",
              "      <td>2019-08-15 14:19:35.510</td>\n",
              "      <td>MINISTÉRIO DA ECONOMIA - BLOCO C</td>\n",
              "      <td>BRASILIA</td>\n",
              "      <td>DF</td>\n",
              "      <td>MINISTÉRIO DO PLANEJAMENTO, DESENVOLVIMENTO E ...</td>\n",
              "    </tr>\n",
              "    <tr>\n",
              "      <th>1</th>\n",
              "      <td>TAXIGOV_DF</td>\n",
              "      <td>7</td>\n",
              "      <td>CONCLUÍDA</td>\n",
              "      <td>Ministério da Economia</td>\n",
              "      <td>1.1</td>\n",
              "      <td>5.8</td>\n",
              "      <td>2019-08-16 10:12:51.743</td>\n",
              "      <td>2019-08-16 10:17:06.587</td>\n",
              "      <td>MINISTÉRIO DO PLANEJAMENTO ORÇAMENTO E GESTÃƒO</td>\n",
              "      <td>BRASILIA</td>\n",
              "      <td>DF</td>\n",
              "      <td>MINISTÉRIO DA ECONOMIA - ANEXO DO BLOCO F - BR...</td>\n",
              "    </tr>\n",
              "    <tr>\n",
              "      <th>2</th>\n",
              "      <td>TAXIGOV_DF</td>\n",
              "      <td>8</td>\n",
              "      <td>CONCLUÍDA</td>\n",
              "      <td>Ministério da Economia</td>\n",
              "      <td>0.7</td>\n",
              "      <td>5.8</td>\n",
              "      <td>2019-08-16 14:20:23.457</td>\n",
              "      <td>2019-08-16 14:38:49.707</td>\n",
              "      <td>MINISTÉRIO DA ECONOMIA - BLOCO C</td>\n",
              "      <td>BRASILIA</td>\n",
              "      <td>DF</td>\n",
              "      <td>MINISTÉRIO DO PLANEJAMENTO, DESENVOLVIMENTO E ...</td>\n",
              "    </tr>\n",
              "    <tr>\n",
              "      <th>3</th>\n",
              "      <td>TAXIGOV_DF</td>\n",
              "      <td>15</td>\n",
              "      <td>CONCLUÍDA</td>\n",
              "      <td>Ministério da Economia</td>\n",
              "      <td>15.0</td>\n",
              "      <td>58.0</td>\n",
              "      <td>2019-08-19 10:18:02.240</td>\n",
              "      <td>2019-08-19 10:22:28.993</td>\n",
              "      <td>MINISTÉRIO DO PLANEJAMENTO ORÇAMENTO E GESTÃƒO</td>\n",
              "      <td>BRASILIA</td>\n",
              "      <td>DF</td>\n",
              "      <td>0 - ASA NORTE - BRASÍLIA / DF</td>\n",
              "    </tr>\n",
              "    <tr>\n",
              "      <th>4</th>\n",
              "      <td>TAXIGOV_DF</td>\n",
              "      <td>16</td>\n",
              "      <td>CONCLUÍDA</td>\n",
              "      <td>Ministério da Economia</td>\n",
              "      <td>27.0</td>\n",
              "      <td>78.3</td>\n",
              "      <td>2019-08-19 14:11:22.417</td>\n",
              "      <td>2019-08-19 14:37:04.907</td>\n",
              "      <td>MINISTÉRIO DA ECONOMIA - BLOCO C</td>\n",
              "      <td>BRASILIA</td>\n",
              "      <td>DF</td>\n",
              "      <td>MINISTÉRIO DA ECONOMIA - BLOCO F - ZONA CÃVIC...</td>\n",
              "    </tr>\n",
              "    <tr>\n",
              "      <th>...</th>\n",
              "      <td>...</td>\n",
              "      <td>...</td>\n",
              "      <td>...</td>\n",
              "      <td>...</td>\n",
              "      <td>...</td>\n",
              "      <td>...</td>\n",
              "      <td>...</td>\n",
              "      <td>...</td>\n",
              "      <td>...</td>\n",
              "      <td>...</td>\n",
              "      <td>...</td>\n",
              "      <td>...</td>\n",
              "    </tr>\n",
              "    <tr>\n",
              "      <th>251254</th>\n",
              "      <td>TAXIGOV_DF</td>\n",
              "      <td>384607</td>\n",
              "      <td>CONCLUÍDA</td>\n",
              "      <td>MCTIC</td>\n",
              "      <td>32.43</td>\n",
              "      <td>102.48</td>\n",
              "      <td>2021-09-21 22:30:48.907</td>\n",
              "      <td>2021-09-21 23:01:03.590</td>\n",
              "      <td>EMI BLOCO E</td>\n",
              "      <td>BRASILIA</td>\n",
              "      <td>DF</td>\n",
              "      <td>Qr 204 Conjunto 15, Brasilia, DF</td>\n",
              "    </tr>\n",
              "    <tr>\n",
              "      <th>251255</th>\n",
              "      <td>TAXIGOV_DF</td>\n",
              "      <td>384608</td>\n",
              "      <td>CONCLUÍDA</td>\n",
              "      <td>MCTIC</td>\n",
              "      <td>10.59</td>\n",
              "      <td>33.46</td>\n",
              "      <td>2021-09-21 23:04:45.977</td>\n",
              "      <td>2021-09-21 23:20:31.483</td>\n",
              "      <td>QR 204, CONJUNTO 15</td>\n",
              "      <td>BRASILIA</td>\n",
              "      <td>DF</td>\n",
              "      <td>qno 11</td>\n",
              "    </tr>\n",
              "    <tr>\n",
              "      <th>251256</th>\n",
              "      <td>TAXIGOV_DF</td>\n",
              "      <td>384611</td>\n",
              "      <td>CONCLUÍDA</td>\n",
              "      <td>MCTIC</td>\n",
              "      <td>27.41</td>\n",
              "      <td>86.6</td>\n",
              "      <td>2021-09-22 04:13:04.513</td>\n",
              "      <td>2021-09-22 04:40:42.010</td>\n",
              "      <td>Q 405 CONJUNTO 11</td>\n",
              "      <td>BRASÍLIA</td>\n",
              "      <td>DF</td>\n",
              "      <td>BASE AÉREA DE BRASÍLIA - BRASÍLIA / DF</td>\n",
              "    </tr>\n",
              "    <tr>\n",
              "      <th>251258</th>\n",
              "      <td>TAXIGOV_DF</td>\n",
              "      <td>384627</td>\n",
              "      <td>CONCLUÍDA</td>\n",
              "      <td>Presidência da República</td>\n",
              "      <td>15.29</td>\n",
              "      <td>48.31</td>\n",
              "      <td>2021-09-22 07:25:07.403</td>\n",
              "      <td>2021-09-22 07:47:45.710</td>\n",
              "      <td>SALA DE AUTORIDADES, BASE AEREA DE BRASILIA</td>\n",
              "      <td>BRASILIA</td>\n",
              "      <td>DF</td>\n",
              "      <td>Aos 7 Bloco D, Cruzeiro, Brasilia, DF</td>\n",
              "    </tr>\n",
              "    <tr>\n",
              "      <th>251259</th>\n",
              "      <td>TAXIGOV_DF</td>\n",
              "      <td>384633</td>\n",
              "      <td>CONCLUÍDA</td>\n",
              "      <td>Ministério da Infraestrutura</td>\n",
              "      <td>6.35</td>\n",
              "      <td>20.08</td>\n",
              "      <td>2021-09-22 07:14:50.543</td>\n",
              "      <td>2021-09-22 07:23:25.237</td>\n",
              "      <td>MINISTERIO DOS TRANSPORTES - ANEXO A E B</td>\n",
              "      <td>BRASILIA</td>\n",
              "      <td>DF</td>\n",
              "      <td>SGO Q 1 Ae, Brasilia, DF</td>\n",
              "    </tr>\n",
              "  </tbody>\n",
              "</table>\n",
              "<p>235055 rows × 12 columns</p>\n",
              "</div>"
            ],
            "text/plain": [
              "        id_TaxiGov  ...                        Destino_Solicitado_Endereco\n",
              "0       TAXIGOV_DF  ...  MINISTÉRIO DO PLANEJAMENTO, DESENVOLVIMENTO E ...\n",
              "1       TAXIGOV_DF  ...  MINISTÉRIO DA ECONOMIA - ANEXO DO BLOCO F - BR...\n",
              "2       TAXIGOV_DF  ...  MINISTÉRIO DO PLANEJAMENTO, DESENVOLVIMENTO E ...\n",
              "3       TAXIGOV_DF  ...                      0 - ASA NORTE - BRASÍLIA / DF\n",
              "4       TAXIGOV_DF  ...  MINISTÉRIO DA ECONOMIA - BLOCO F - ZONA CÃVIC...\n",
              "...            ...  ...                                                ...\n",
              "251254  TAXIGOV_DF  ...                   Qr 204 Conjunto 15, Brasilia, DF\n",
              "251255  TAXIGOV_DF  ...                                             qno 11\n",
              "251256  TAXIGOV_DF  ...             BASE AÉREA DE BRASÍLIA - BRASÍLIA / DF\n",
              "251258  TAXIGOV_DF  ...              Aos 7 Bloco D, Cruzeiro, Brasilia, DF\n",
              "251259  TAXIGOV_DF  ...                           SGO Q 1 Ae, Brasilia, DF\n",
              "\n",
              "[235055 rows x 12 columns]"
            ]
          },
          "metadata": {},
          "execution_count": 131
        }
      ]
    },
    {
      "cell_type": "code",
      "metadata": {
        "id": "sX1m2RMez_rV",
        "colab": {
          "base_uri": "https://localhost:8080/"
        },
        "outputId": "c079d7a9-a2a1-41fb-f735-b79e0828f172"
      },
      "source": [
        "#ver os tipos de dados\n",
        "cc.dtypes"
      ],
      "execution_count": 132,
      "outputs": [
        {
          "output_type": "execute_result",
          "data": {
            "text/plain": [
              "id_TaxiGov                     object\n",
              "QRU_Corrida                    object\n",
              "Status_Corrida                 object\n",
              "Nome_Orgao                     object\n",
              "km_total                       object\n",
              "Valor_Corrida                  object\n",
              "Data_Inicio                    object\n",
              "Data_Final                     object\n",
              "Origem_Endereco                object\n",
              "Origem_Cidade                  object\n",
              "Origem_UF                      object\n",
              "Destino_Solicitado_Endereco    object\n",
              "dtype: object"
            ]
          },
          "metadata": {},
          "execution_count": 132
        }
      ]
    },
    {
      "cell_type": "code",
      "metadata": {
        "colab": {
          "base_uri": "https://localhost:8080/"
        },
        "id": "euF6EojTe70k",
        "outputId": "66d08c28-8532-435d-9904-4bce1ddd096a"
      },
      "source": [
        "#Apagar os valore nulos das colunas km_total, Valor_corrida, Nome_do_Orgao, Data_Inicio\n",
        "cc.dropna(subset=['km_total'],inplace=True)\n",
        "cc.dropna(subset=['Valor_Corrida'],inplace=True)\n",
        "cc.dropna(subset=['Nome_Orgao'],inplace=True)\n",
        "cc.dropna(subset=['Data_Inicio'],inplace=True)"
      ],
      "execution_count": 133,
      "outputs": [
        {
          "output_type": "stream",
          "name": "stderr",
          "text": [
            "/usr/local/lib/python3.7/dist-packages/ipykernel_launcher.py:2: SettingWithCopyWarning: \n",
            "A value is trying to be set on a copy of a slice from a DataFrame\n",
            "\n",
            "See the caveats in the documentation: https://pandas.pydata.org/pandas-docs/stable/user_guide/indexing.html#returning-a-view-versus-a-copy\n",
            "  \n",
            "/usr/local/lib/python3.7/dist-packages/ipykernel_launcher.py:3: SettingWithCopyWarning: \n",
            "A value is trying to be set on a copy of a slice from a DataFrame\n",
            "\n",
            "See the caveats in the documentation: https://pandas.pydata.org/pandas-docs/stable/user_guide/indexing.html#returning-a-view-versus-a-copy\n",
            "  This is separate from the ipykernel package so we can avoid doing imports until\n",
            "/usr/local/lib/python3.7/dist-packages/ipykernel_launcher.py:4: SettingWithCopyWarning: \n",
            "A value is trying to be set on a copy of a slice from a DataFrame\n",
            "\n",
            "See the caveats in the documentation: https://pandas.pydata.org/pandas-docs/stable/user_guide/indexing.html#returning-a-view-versus-a-copy\n",
            "  after removing the cwd from sys.path.\n",
            "/usr/local/lib/python3.7/dist-packages/ipykernel_launcher.py:5: SettingWithCopyWarning: \n",
            "A value is trying to be set on a copy of a slice from a DataFrame\n",
            "\n",
            "See the caveats in the documentation: https://pandas.pydata.org/pandas-docs/stable/user_guide/indexing.html#returning-a-view-versus-a-copy\n",
            "  \"\"\"\n"
          ]
        }
      ]
    },
    {
      "cell_type": "code",
      "metadata": {
        "colab": {
          "base_uri": "https://localhost:8080/",
          "height": 69
        },
        "id": "lpseDofTgMHm",
        "outputId": "93698b8a-42bf-4d87-ee54-cdd5a6e34ec9"
      },
      "source": [
        "#pegar os valores nulos de determinada coluna \n",
        "cc.loc[cc.Valor_Corrida.isnull()]"
      ],
      "execution_count": 134,
      "outputs": [
        {
          "output_type": "execute_result",
          "data": {
            "text/html": [
              "<div>\n",
              "<style scoped>\n",
              "    .dataframe tbody tr th:only-of-type {\n",
              "        vertical-align: middle;\n",
              "    }\n",
              "\n",
              "    .dataframe tbody tr th {\n",
              "        vertical-align: top;\n",
              "    }\n",
              "\n",
              "    .dataframe thead th {\n",
              "        text-align: right;\n",
              "    }\n",
              "</style>\n",
              "<table border=\"1\" class=\"dataframe\">\n",
              "  <thead>\n",
              "    <tr style=\"text-align: right;\">\n",
              "      <th></th>\n",
              "      <th>id_TaxiGov</th>\n",
              "      <th>QRU_Corrida</th>\n",
              "      <th>Status_Corrida</th>\n",
              "      <th>Nome_Orgao</th>\n",
              "      <th>km_total</th>\n",
              "      <th>Valor_Corrida</th>\n",
              "      <th>Data_Inicio</th>\n",
              "      <th>Data_Final</th>\n",
              "      <th>Origem_Endereco</th>\n",
              "      <th>Origem_Cidade</th>\n",
              "      <th>Origem_UF</th>\n",
              "      <th>Destino_Solicitado_Endereco</th>\n",
              "    </tr>\n",
              "  </thead>\n",
              "  <tbody>\n",
              "  </tbody>\n",
              "</table>\n",
              "</div>"
            ],
            "text/plain": [
              "Empty DataFrame\n",
              "Columns: [id_TaxiGov, QRU_Corrida, Status_Corrida, Nome_Orgao, km_total, Valor_Corrida, Data_Inicio, Data_Final, Origem_Endereco, Origem_Cidade, Origem_UF, Destino_Solicitado_Endereco]\n",
              "Index: []"
            ]
          },
          "metadata": {},
          "execution_count": 134
        }
      ]
    },
    {
      "cell_type": "code",
      "metadata": {
        "colab": {
          "base_uri": "https://localhost:8080/"
        },
        "id": "b2X9ejdHg9mv",
        "outputId": "72f72fdf-1b39-4cd3-a897-1e203fb0b70f"
      },
      "source": [
        "df.dtypes"
      ],
      "execution_count": 135,
      "outputs": [
        {
          "output_type": "execute_result",
          "data": {
            "text/plain": [
              "id_TaxiGov                     object\n",
              "QRU_Corrida                    object\n",
              "Status_Corrida                 object\n",
              "Nome_Orgao                     object\n",
              "km_total                       object\n",
              "Valor_Corrida                  object\n",
              "Data_Inicio                    object\n",
              "Data_Final                     object\n",
              "Origem_Endereco                object\n",
              "Origem_Cidade                  object\n",
              "Origem_UF                      object\n",
              "Destino_Solicitado_Endereco    object\n",
              "dtype: object"
            ]
          },
          "metadata": {},
          "execution_count": 135
        }
      ]
    },
    {
      "cell_type": "code",
      "metadata": {
        "id": "GT0ezCvZeAGa",
        "colab": {
          "base_uri": "https://localhost:8080/"
        },
        "outputId": "2020622a-6859-415c-880f-bbc032107249"
      },
      "source": [
        "#convertendo as colunas de tipo float\n",
        "cc['km_total'] = cc['km_total'].astype('float64')\n",
        "cc['Valor_Corrida'] = cc['Valor_Corrida'].astype('float64')"
      ],
      "execution_count": 136,
      "outputs": [
        {
          "output_type": "stream",
          "name": "stderr",
          "text": [
            "/usr/local/lib/python3.7/dist-packages/ipykernel_launcher.py:2: SettingWithCopyWarning: \n",
            "A value is trying to be set on a copy of a slice from a DataFrame.\n",
            "Try using .loc[row_indexer,col_indexer] = value instead\n",
            "\n",
            "See the caveats in the documentation: https://pandas.pydata.org/pandas-docs/stable/user_guide/indexing.html#returning-a-view-versus-a-copy\n",
            "  \n",
            "/usr/local/lib/python3.7/dist-packages/ipykernel_launcher.py:3: SettingWithCopyWarning: \n",
            "A value is trying to be set on a copy of a slice from a DataFrame.\n",
            "Try using .loc[row_indexer,col_indexer] = value instead\n",
            "\n",
            "See the caveats in the documentation: https://pandas.pydata.org/pandas-docs/stable/user_guide/indexing.html#returning-a-view-versus-a-copy\n",
            "  This is separate from the ipykernel package so we can avoid doing imports until\n"
          ]
        }
      ]
    },
    {
      "cell_type": "code",
      "metadata": {
        "id": "Qs0zhpb0lpX5",
        "colab": {
          "base_uri": "https://localhost:8080/"
        },
        "outputId": "0c3f7d18-9820-4e5b-b76c-c60aa846a3c3"
      },
      "source": [
        "#convertendo as colunas de tipo data\n",
        "cc['Data_Final'] = cc['Data_Final'].astype('datetime64')\n",
        "cc['Data_Inicio'] = cc['Data_Inicio'].astype('datetime64')"
      ],
      "execution_count": 137,
      "outputs": [
        {
          "output_type": "stream",
          "name": "stderr",
          "text": [
            "/usr/local/lib/python3.7/dist-packages/ipykernel_launcher.py:2: SettingWithCopyWarning: \n",
            "A value is trying to be set on a copy of a slice from a DataFrame.\n",
            "Try using .loc[row_indexer,col_indexer] = value instead\n",
            "\n",
            "See the caveats in the documentation: https://pandas.pydata.org/pandas-docs/stable/user_guide/indexing.html#returning-a-view-versus-a-copy\n",
            "  \n",
            "/usr/local/lib/python3.7/dist-packages/ipykernel_launcher.py:3: SettingWithCopyWarning: \n",
            "A value is trying to be set on a copy of a slice from a DataFrame.\n",
            "Try using .loc[row_indexer,col_indexer] = value instead\n",
            "\n",
            "See the caveats in the documentation: https://pandas.pydata.org/pandas-docs/stable/user_guide/indexing.html#returning-a-view-versus-a-copy\n",
            "  This is separate from the ipykernel package so we can avoid doing imports until\n"
          ]
        }
      ]
    },
    {
      "cell_type": "code",
      "metadata": {
        "colab": {
          "base_uri": "https://localhost:8080/"
        },
        "id": "u3GrUYdlnUWx",
        "outputId": "38ee9d04-0127-4990-96bd-c7e284af3491"
      },
      "source": [
        "#convertendo as colunas de tipo int\n",
        "cc['QRU_Corrida'] = cc['QRU_Corrida'].astype('int32')"
      ],
      "execution_count": 138,
      "outputs": [
        {
          "output_type": "stream",
          "name": "stderr",
          "text": [
            "/usr/local/lib/python3.7/dist-packages/ipykernel_launcher.py:2: SettingWithCopyWarning: \n",
            "A value is trying to be set on a copy of a slice from a DataFrame.\n",
            "Try using .loc[row_indexer,col_indexer] = value instead\n",
            "\n",
            "See the caveats in the documentation: https://pandas.pydata.org/pandas-docs/stable/user_guide/indexing.html#returning-a-view-versus-a-copy\n",
            "  \n"
          ]
        }
      ]
    },
    {
      "cell_type": "code",
      "metadata": {
        "id": "pDzDhNTxXosv"
      },
      "source": [
        "#Criar um schema pra posteriormente fazer a validação do nosso DataFrame\n",
        "schema = pa.DataFrameSchema(\n",
        "\t{\n",
        "\t\t\"id_TaxiGov\":pa.Column(pa.String, nullable=True),\n",
        "\t\t\"QRU_Corrida\":pa.Column(pa.Int32, nullable=True),\n",
        "\t\t\"Status_Corrida\":pa.Column(pa.String, nullable=True),\n",
        "    \"Nome_Orgao\":pa.Column(pa.String, nullable=True),\n",
        "    \"km_total\":pa.Column(pa.Float64, nullable=True),\n",
        "    \"Valor_Corrida\":pa.Column(pa.Float64, nullable=True),\n",
        "    \"Data_Inicio\":pa.Column(pa.DateTime, nullable=True),\n",
        "    \"Data_Final\":pa.Column(pa.DateTime, nullable=True),\n",
        "    \"Origem_Endereco\":pa.Column(pa.String, nullable=True),\n",
        "    \"Origem_Cidade\":pa.Column(pa.String, nullable=True),\n",
        "    \"Origem_UF\":pa.Column(pa.String, pa.Check.str_length(2,2), nullable=True),\n",
        "\t\t\"Destino_Solicitado_Endereco\":pa.Column(pa.String, nullable=True)\n",
        "\t}\t\n",
        ")"
      ],
      "execution_count": 139,
      "outputs": []
    },
    {
      "cell_type": "code",
      "metadata": {
        "colab": {
          "base_uri": "https://localhost:8080/",
          "height": 791
        },
        "id": "mSek_F38bSHV",
        "outputId": "44365bb5-a92d-49a5-9c70-767b1f280817"
      },
      "source": [
        "#validando o schema\n",
        "schema.validate(cc)"
      ],
      "execution_count": 140,
      "outputs": [
        {
          "output_type": "execute_result",
          "data": {
            "text/html": [
              "<div>\n",
              "<style scoped>\n",
              "    .dataframe tbody tr th:only-of-type {\n",
              "        vertical-align: middle;\n",
              "    }\n",
              "\n",
              "    .dataframe tbody tr th {\n",
              "        vertical-align: top;\n",
              "    }\n",
              "\n",
              "    .dataframe thead th {\n",
              "        text-align: right;\n",
              "    }\n",
              "</style>\n",
              "<table border=\"1\" class=\"dataframe\">\n",
              "  <thead>\n",
              "    <tr style=\"text-align: right;\">\n",
              "      <th></th>\n",
              "      <th>id_TaxiGov</th>\n",
              "      <th>QRU_Corrida</th>\n",
              "      <th>Status_Corrida</th>\n",
              "      <th>Nome_Orgao</th>\n",
              "      <th>km_total</th>\n",
              "      <th>Valor_Corrida</th>\n",
              "      <th>Data_Inicio</th>\n",
              "      <th>Data_Final</th>\n",
              "      <th>Origem_Endereco</th>\n",
              "      <th>Origem_Cidade</th>\n",
              "      <th>Origem_UF</th>\n",
              "      <th>Destino_Solicitado_Endereco</th>\n",
              "    </tr>\n",
              "  </thead>\n",
              "  <tbody>\n",
              "    <tr>\n",
              "      <th>0</th>\n",
              "      <td>TAXIGOV_DF</td>\n",
              "      <td>6</td>\n",
              "      <td>CONCLUÍDA</td>\n",
              "      <td>Ministério da Economia</td>\n",
              "      <td>1.50</td>\n",
              "      <td>5.80</td>\n",
              "      <td>2019-08-15 14:15:22.763</td>\n",
              "      <td>2019-08-15 14:19:35.510</td>\n",
              "      <td>MINISTÉRIO DA ECONOMIA - BLOCO C</td>\n",
              "      <td>BRASILIA</td>\n",
              "      <td>DF</td>\n",
              "      <td>MINISTÉRIO DO PLANEJAMENTO, DESENVOLVIMENTO E ...</td>\n",
              "    </tr>\n",
              "    <tr>\n",
              "      <th>1</th>\n",
              "      <td>TAXIGOV_DF</td>\n",
              "      <td>7</td>\n",
              "      <td>CONCLUÍDA</td>\n",
              "      <td>Ministério da Economia</td>\n",
              "      <td>1.10</td>\n",
              "      <td>5.80</td>\n",
              "      <td>2019-08-16 10:12:51.743</td>\n",
              "      <td>2019-08-16 10:17:06.587</td>\n",
              "      <td>MINISTÉRIO DO PLANEJAMENTO ORÇAMENTO E GESTÃƒO</td>\n",
              "      <td>BRASILIA</td>\n",
              "      <td>DF</td>\n",
              "      <td>MINISTÉRIO DA ECONOMIA - ANEXO DO BLOCO F - BR...</td>\n",
              "    </tr>\n",
              "    <tr>\n",
              "      <th>2</th>\n",
              "      <td>TAXIGOV_DF</td>\n",
              "      <td>8</td>\n",
              "      <td>CONCLUÍDA</td>\n",
              "      <td>Ministério da Economia</td>\n",
              "      <td>0.70</td>\n",
              "      <td>5.80</td>\n",
              "      <td>2019-08-16 14:20:23.457</td>\n",
              "      <td>2019-08-16 14:38:49.707</td>\n",
              "      <td>MINISTÉRIO DA ECONOMIA - BLOCO C</td>\n",
              "      <td>BRASILIA</td>\n",
              "      <td>DF</td>\n",
              "      <td>MINISTÉRIO DO PLANEJAMENTO, DESENVOLVIMENTO E ...</td>\n",
              "    </tr>\n",
              "    <tr>\n",
              "      <th>3</th>\n",
              "      <td>TAXIGOV_DF</td>\n",
              "      <td>15</td>\n",
              "      <td>CONCLUÍDA</td>\n",
              "      <td>Ministério da Economia</td>\n",
              "      <td>15.00</td>\n",
              "      <td>58.00</td>\n",
              "      <td>2019-08-19 10:18:02.240</td>\n",
              "      <td>2019-08-19 10:22:28.993</td>\n",
              "      <td>MINISTÉRIO DO PLANEJAMENTO ORÇAMENTO E GESTÃƒO</td>\n",
              "      <td>BRASILIA</td>\n",
              "      <td>DF</td>\n",
              "      <td>0 - ASA NORTE - BRASÍLIA / DF</td>\n",
              "    </tr>\n",
              "    <tr>\n",
              "      <th>4</th>\n",
              "      <td>TAXIGOV_DF</td>\n",
              "      <td>16</td>\n",
              "      <td>CONCLUÍDA</td>\n",
              "      <td>Ministério da Economia</td>\n",
              "      <td>27.00</td>\n",
              "      <td>78.30</td>\n",
              "      <td>2019-08-19 14:11:22.417</td>\n",
              "      <td>2019-08-19 14:37:04.907</td>\n",
              "      <td>MINISTÉRIO DA ECONOMIA - BLOCO C</td>\n",
              "      <td>BRASILIA</td>\n",
              "      <td>DF</td>\n",
              "      <td>MINISTÉRIO DA ECONOMIA - BLOCO F - ZONA CÃVIC...</td>\n",
              "    </tr>\n",
              "    <tr>\n",
              "      <th>...</th>\n",
              "      <td>...</td>\n",
              "      <td>...</td>\n",
              "      <td>...</td>\n",
              "      <td>...</td>\n",
              "      <td>...</td>\n",
              "      <td>...</td>\n",
              "      <td>...</td>\n",
              "      <td>...</td>\n",
              "      <td>...</td>\n",
              "      <td>...</td>\n",
              "      <td>...</td>\n",
              "      <td>...</td>\n",
              "    </tr>\n",
              "    <tr>\n",
              "      <th>251254</th>\n",
              "      <td>TAXIGOV_DF</td>\n",
              "      <td>384607</td>\n",
              "      <td>CONCLUÍDA</td>\n",
              "      <td>MCTIC</td>\n",
              "      <td>32.43</td>\n",
              "      <td>102.48</td>\n",
              "      <td>2021-09-21 22:30:48.907</td>\n",
              "      <td>2021-09-21 23:01:03.590</td>\n",
              "      <td>EMI BLOCO E</td>\n",
              "      <td>BRASILIA</td>\n",
              "      <td>DF</td>\n",
              "      <td>Qr 204 Conjunto 15, Brasilia, DF</td>\n",
              "    </tr>\n",
              "    <tr>\n",
              "      <th>251255</th>\n",
              "      <td>TAXIGOV_DF</td>\n",
              "      <td>384608</td>\n",
              "      <td>CONCLUÍDA</td>\n",
              "      <td>MCTIC</td>\n",
              "      <td>10.59</td>\n",
              "      <td>33.46</td>\n",
              "      <td>2021-09-21 23:04:45.977</td>\n",
              "      <td>2021-09-21 23:20:31.483</td>\n",
              "      <td>QR 204, CONJUNTO 15</td>\n",
              "      <td>BRASILIA</td>\n",
              "      <td>DF</td>\n",
              "      <td>qno 11</td>\n",
              "    </tr>\n",
              "    <tr>\n",
              "      <th>251256</th>\n",
              "      <td>TAXIGOV_DF</td>\n",
              "      <td>384611</td>\n",
              "      <td>CONCLUÍDA</td>\n",
              "      <td>MCTIC</td>\n",
              "      <td>27.41</td>\n",
              "      <td>86.60</td>\n",
              "      <td>2021-09-22 04:13:04.513</td>\n",
              "      <td>2021-09-22 04:40:42.010</td>\n",
              "      <td>Q 405 CONJUNTO 11</td>\n",
              "      <td>BRASÍLIA</td>\n",
              "      <td>DF</td>\n",
              "      <td>BASE AÉREA DE BRASÍLIA - BRASÍLIA / DF</td>\n",
              "    </tr>\n",
              "    <tr>\n",
              "      <th>251258</th>\n",
              "      <td>TAXIGOV_DF</td>\n",
              "      <td>384627</td>\n",
              "      <td>CONCLUÍDA</td>\n",
              "      <td>Presidência da República</td>\n",
              "      <td>15.29</td>\n",
              "      <td>48.31</td>\n",
              "      <td>2021-09-22 07:25:07.403</td>\n",
              "      <td>2021-09-22 07:47:45.710</td>\n",
              "      <td>SALA DE AUTORIDADES, BASE AEREA DE BRASILIA</td>\n",
              "      <td>BRASILIA</td>\n",
              "      <td>DF</td>\n",
              "      <td>Aos 7 Bloco D, Cruzeiro, Brasilia, DF</td>\n",
              "    </tr>\n",
              "    <tr>\n",
              "      <th>251259</th>\n",
              "      <td>TAXIGOV_DF</td>\n",
              "      <td>384633</td>\n",
              "      <td>CONCLUÍDA</td>\n",
              "      <td>Ministério da Infraestrutura</td>\n",
              "      <td>6.35</td>\n",
              "      <td>20.08</td>\n",
              "      <td>2021-09-22 07:14:50.543</td>\n",
              "      <td>2021-09-22 07:23:25.237</td>\n",
              "      <td>MINISTERIO DOS TRANSPORTES - ANEXO A E B</td>\n",
              "      <td>BRASILIA</td>\n",
              "      <td>DF</td>\n",
              "      <td>SGO Q 1 Ae, Brasilia, DF</td>\n",
              "    </tr>\n",
              "  </tbody>\n",
              "</table>\n",
              "<p>235042 rows × 12 columns</p>\n",
              "</div>"
            ],
            "text/plain": [
              "        id_TaxiGov  ...                        Destino_Solicitado_Endereco\n",
              "0       TAXIGOV_DF  ...  MINISTÉRIO DO PLANEJAMENTO, DESENVOLVIMENTO E ...\n",
              "1       TAXIGOV_DF  ...  MINISTÉRIO DA ECONOMIA - ANEXO DO BLOCO F - BR...\n",
              "2       TAXIGOV_DF  ...  MINISTÉRIO DO PLANEJAMENTO, DESENVOLVIMENTO E ...\n",
              "3       TAXIGOV_DF  ...                      0 - ASA NORTE - BRASÍLIA / DF\n",
              "4       TAXIGOV_DF  ...  MINISTÉRIO DA ECONOMIA - BLOCO F - ZONA CÃVIC...\n",
              "...            ...  ...                                                ...\n",
              "251254  TAXIGOV_DF  ...                   Qr 204 Conjunto 15, Brasilia, DF\n",
              "251255  TAXIGOV_DF  ...                                             qno 11\n",
              "251256  TAXIGOV_DF  ...             BASE AÉREA DE BRASÍLIA - BRASÍLIA / DF\n",
              "251258  TAXIGOV_DF  ...              Aos 7 Bloco D, Cruzeiro, Brasilia, DF\n",
              "251259  TAXIGOV_DF  ...                           SGO Q 1 Ae, Brasilia, DF\n",
              "\n",
              "[235042 rows x 12 columns]"
            ]
          },
          "metadata": {},
          "execution_count": 140
        }
      ]
    },
    {
      "cell_type": "code",
      "metadata": {
        "colab": {
          "base_uri": "https://localhost:8080/"
        },
        "id": "0CAARozHY8cZ",
        "outputId": "e2c6b595-1646-4638-f828-a59b2e2dbe00"
      },
      "source": [
        "cc.isna().sum()"
      ],
      "execution_count": 141,
      "outputs": [
        {
          "output_type": "execute_result",
          "data": {
            "text/plain": [
              "id_TaxiGov                        0\n",
              "QRU_Corrida                       0\n",
              "Status_Corrida                    0\n",
              "Nome_Orgao                        0\n",
              "km_total                          0\n",
              "Valor_Corrida                     0\n",
              "Data_Inicio                       0\n",
              "Data_Final                        0\n",
              "Origem_Endereco                   0\n",
              "Origem_Cidade                   876\n",
              "Origem_UF                        13\n",
              "Destino_Solicitado_Endereco    2081\n",
              "dtype: int64"
            ]
          },
          "metadata": {},
          "execution_count": 141
        }
      ]
    },
    {
      "cell_type": "code",
      "metadata": {
        "id": "VJerx3cG4p4e"
      },
      "source": [
        "#Apagando valores iguas a zero da coluna km_total e Valor_Corrida\n",
        "cc = cc.drop(cc[cc.km_total == 0].index)\n",
        "cc = cc.drop(cc[cc.Valor_Corrida == 0].index)"
      ],
      "execution_count": 142,
      "outputs": []
    },
    {
      "cell_type": "code",
      "metadata": {
        "id": "sZ2KPIbPaBvl"
      },
      "source": [
        "#Criando uma coluna nova pra calcular o preço médio do KM = Valor_Corrida/km_total\n",
        "cc['preco_do_km'] = ((cc.Valor_Corrida) / (cc.km_total))"
      ],
      "execution_count": 143,
      "outputs": []
    },
    {
      "cell_type": "code",
      "metadata": {
        "id": "TSIaZHy5ouhI",
        "colab": {
          "base_uri": "https://localhost:8080/"
        },
        "outputId": "2d0068fb-efc5-484d-cd86-400588a9e0a1"
      },
      "source": [
        "cc.dtypes"
      ],
      "execution_count": 144,
      "outputs": [
        {
          "output_type": "execute_result",
          "data": {
            "text/plain": [
              "id_TaxiGov                             object\n",
              "QRU_Corrida                             int32\n",
              "Status_Corrida                         object\n",
              "Nome_Orgao                             object\n",
              "km_total                              float64\n",
              "Valor_Corrida                         float64\n",
              "Data_Inicio                    datetime64[ns]\n",
              "Data_Final                     datetime64[ns]\n",
              "Origem_Endereco                        object\n",
              "Origem_Cidade                          object\n",
              "Origem_UF                              object\n",
              "Destino_Solicitado_Endereco            object\n",
              "preco_do_km                           float64\n",
              "dtype: object"
            ]
          },
          "metadata": {},
          "execution_count": 144
        }
      ]
    },
    {
      "cell_type": "code",
      "metadata": {
        "colab": {
          "base_uri": "https://localhost:8080/",
          "height": 69
        },
        "id": "W1IRLI1FvbkU",
        "outputId": "7042450a-ff28-403f-9ca2-ad984516cad9"
      },
      "source": [
        "#conferindo se na coluna preco_do_km temos valores nulos\n",
        "cc.loc[cc['preco_do_km'].isna()]"
      ],
      "execution_count": 145,
      "outputs": [
        {
          "output_type": "execute_result",
          "data": {
            "text/html": [
              "<div>\n",
              "<style scoped>\n",
              "    .dataframe tbody tr th:only-of-type {\n",
              "        vertical-align: middle;\n",
              "    }\n",
              "\n",
              "    .dataframe tbody tr th {\n",
              "        vertical-align: top;\n",
              "    }\n",
              "\n",
              "    .dataframe thead th {\n",
              "        text-align: right;\n",
              "    }\n",
              "</style>\n",
              "<table border=\"1\" class=\"dataframe\">\n",
              "  <thead>\n",
              "    <tr style=\"text-align: right;\">\n",
              "      <th></th>\n",
              "      <th>id_TaxiGov</th>\n",
              "      <th>QRU_Corrida</th>\n",
              "      <th>Status_Corrida</th>\n",
              "      <th>Nome_Orgao</th>\n",
              "      <th>km_total</th>\n",
              "      <th>Valor_Corrida</th>\n",
              "      <th>Data_Inicio</th>\n",
              "      <th>Data_Final</th>\n",
              "      <th>Origem_Endereco</th>\n",
              "      <th>Origem_Cidade</th>\n",
              "      <th>Origem_UF</th>\n",
              "      <th>Destino_Solicitado_Endereco</th>\n",
              "      <th>preco_do_km</th>\n",
              "    </tr>\n",
              "  </thead>\n",
              "  <tbody>\n",
              "  </tbody>\n",
              "</table>\n",
              "</div>"
            ],
            "text/plain": [
              "Empty DataFrame\n",
              "Columns: [id_TaxiGov, QRU_Corrida, Status_Corrida, Nome_Orgao, km_total, Valor_Corrida, Data_Inicio, Data_Final, Origem_Endereco, Origem_Cidade, Origem_UF, Destino_Solicitado_Endereco, preco_do_km]\n",
              "Index: []"
            ]
          },
          "metadata": {},
          "execution_count": 145
        }
      ]
    },
    {
      "cell_type": "code",
      "metadata": {
        "id": "9qaNqGnxv11x"
      },
      "source": [
        "#apagando registros que tenham valor nulo na coluna preco_do_km\n",
        "cc.dropna(subset=['preco_do_km'],inplace=True)"
      ],
      "execution_count": 146,
      "outputs": []
    },
    {
      "cell_type": "code",
      "metadata": {
        "colab": {
          "base_uri": "https://localhost:8080/"
        },
        "id": "Rgvf23dXlPWC",
        "outputId": "c9dbcdae-aef4-4364-aaab-f63080bc510c"
      },
      "source": [
        "#Describe da coluna preco_do_km\n",
        "cc['preco_do_km'].describe()"
      ],
      "execution_count": 147,
      "outputs": [
        {
          "output_type": "execute_result",
          "data": {
            "text/plain": [
              "count    235027.000000\n",
              "mean          3.456561\n",
              "std           7.713898\n",
              "min           0.006600\n",
              "25%           2.900000\n",
              "50%           2.969388\n",
              "75%           3.159574\n",
              "max        1450.000000\n",
              "Name: preco_do_km, dtype: float64"
            ]
          },
          "metadata": {},
          "execution_count": 147
        }
      ]
    },
    {
      "cell_type": "code",
      "metadata": {
        "id": "Nrts4c4s2SXx",
        "colab": {
          "base_uri": "https://localhost:8080/"
        },
        "outputId": "7673bfee-fb18-41b3-902a-8514504aa03e"
      },
      "source": [
        "#mostrando a soma de todas as corridas\n",
        "cc['Valor_Corrida'].sum()"
      ],
      "execution_count": 148,
      "outputs": [
        {
          "output_type": "execute_result",
          "data": {
            "text/plain": [
              "5054184.589999999"
            ]
          },
          "metadata": {},
          "execution_count": 148
        }
      ]
    },
    {
      "cell_type": "code",
      "metadata": {
        "id": "TahAM6Vgx8EF",
        "colab": {
          "base_uri": "https://localhost:8080/",
          "height": 791
        },
        "outputId": "73ba7f9c-4da5-4de0-dced-aadc4faa7b2f"
      },
      "source": [
        "cc"
      ],
      "execution_count": 149,
      "outputs": [
        {
          "output_type": "execute_result",
          "data": {
            "text/html": [
              "<div>\n",
              "<style scoped>\n",
              "    .dataframe tbody tr th:only-of-type {\n",
              "        vertical-align: middle;\n",
              "    }\n",
              "\n",
              "    .dataframe tbody tr th {\n",
              "        vertical-align: top;\n",
              "    }\n",
              "\n",
              "    .dataframe thead th {\n",
              "        text-align: right;\n",
              "    }\n",
              "</style>\n",
              "<table border=\"1\" class=\"dataframe\">\n",
              "  <thead>\n",
              "    <tr style=\"text-align: right;\">\n",
              "      <th></th>\n",
              "      <th>id_TaxiGov</th>\n",
              "      <th>QRU_Corrida</th>\n",
              "      <th>Status_Corrida</th>\n",
              "      <th>Nome_Orgao</th>\n",
              "      <th>km_total</th>\n",
              "      <th>Valor_Corrida</th>\n",
              "      <th>Data_Inicio</th>\n",
              "      <th>Data_Final</th>\n",
              "      <th>Origem_Endereco</th>\n",
              "      <th>Origem_Cidade</th>\n",
              "      <th>Origem_UF</th>\n",
              "      <th>Destino_Solicitado_Endereco</th>\n",
              "      <th>preco_do_km</th>\n",
              "    </tr>\n",
              "  </thead>\n",
              "  <tbody>\n",
              "    <tr>\n",
              "      <th>0</th>\n",
              "      <td>TAXIGOV_DF</td>\n",
              "      <td>6</td>\n",
              "      <td>CONCLUÍDA</td>\n",
              "      <td>Ministério da Economia</td>\n",
              "      <td>1.50</td>\n",
              "      <td>5.80</td>\n",
              "      <td>2019-08-15 14:15:22.763</td>\n",
              "      <td>2019-08-15 14:19:35.510</td>\n",
              "      <td>MINISTÉRIO DA ECONOMIA - BLOCO C</td>\n",
              "      <td>BRASILIA</td>\n",
              "      <td>DF</td>\n",
              "      <td>MINISTÉRIO DO PLANEJAMENTO, DESENVOLVIMENTO E ...</td>\n",
              "      <td>3.866667</td>\n",
              "    </tr>\n",
              "    <tr>\n",
              "      <th>1</th>\n",
              "      <td>TAXIGOV_DF</td>\n",
              "      <td>7</td>\n",
              "      <td>CONCLUÍDA</td>\n",
              "      <td>Ministério da Economia</td>\n",
              "      <td>1.10</td>\n",
              "      <td>5.80</td>\n",
              "      <td>2019-08-16 10:12:51.743</td>\n",
              "      <td>2019-08-16 10:17:06.587</td>\n",
              "      <td>MINISTÉRIO DO PLANEJAMENTO ORÇAMENTO E GESTÃƒO</td>\n",
              "      <td>BRASILIA</td>\n",
              "      <td>DF</td>\n",
              "      <td>MINISTÉRIO DA ECONOMIA - ANEXO DO BLOCO F - BR...</td>\n",
              "      <td>5.272727</td>\n",
              "    </tr>\n",
              "    <tr>\n",
              "      <th>2</th>\n",
              "      <td>TAXIGOV_DF</td>\n",
              "      <td>8</td>\n",
              "      <td>CONCLUÍDA</td>\n",
              "      <td>Ministério da Economia</td>\n",
              "      <td>0.70</td>\n",
              "      <td>5.80</td>\n",
              "      <td>2019-08-16 14:20:23.457</td>\n",
              "      <td>2019-08-16 14:38:49.707</td>\n",
              "      <td>MINISTÉRIO DA ECONOMIA - BLOCO C</td>\n",
              "      <td>BRASILIA</td>\n",
              "      <td>DF</td>\n",
              "      <td>MINISTÉRIO DO PLANEJAMENTO, DESENVOLVIMENTO E ...</td>\n",
              "      <td>8.285714</td>\n",
              "    </tr>\n",
              "    <tr>\n",
              "      <th>3</th>\n",
              "      <td>TAXIGOV_DF</td>\n",
              "      <td>15</td>\n",
              "      <td>CONCLUÍDA</td>\n",
              "      <td>Ministério da Economia</td>\n",
              "      <td>15.00</td>\n",
              "      <td>58.00</td>\n",
              "      <td>2019-08-19 10:18:02.240</td>\n",
              "      <td>2019-08-19 10:22:28.993</td>\n",
              "      <td>MINISTÉRIO DO PLANEJAMENTO ORÇAMENTO E GESTÃƒO</td>\n",
              "      <td>BRASILIA</td>\n",
              "      <td>DF</td>\n",
              "      <td>0 - ASA NORTE - BRASÍLIA / DF</td>\n",
              "      <td>3.866667</td>\n",
              "    </tr>\n",
              "    <tr>\n",
              "      <th>4</th>\n",
              "      <td>TAXIGOV_DF</td>\n",
              "      <td>16</td>\n",
              "      <td>CONCLUÍDA</td>\n",
              "      <td>Ministério da Economia</td>\n",
              "      <td>27.00</td>\n",
              "      <td>78.30</td>\n",
              "      <td>2019-08-19 14:11:22.417</td>\n",
              "      <td>2019-08-19 14:37:04.907</td>\n",
              "      <td>MINISTÉRIO DA ECONOMIA - BLOCO C</td>\n",
              "      <td>BRASILIA</td>\n",
              "      <td>DF</td>\n",
              "      <td>MINISTÉRIO DA ECONOMIA - BLOCO F - ZONA CÃVIC...</td>\n",
              "      <td>2.900000</td>\n",
              "    </tr>\n",
              "    <tr>\n",
              "      <th>...</th>\n",
              "      <td>...</td>\n",
              "      <td>...</td>\n",
              "      <td>...</td>\n",
              "      <td>...</td>\n",
              "      <td>...</td>\n",
              "      <td>...</td>\n",
              "      <td>...</td>\n",
              "      <td>...</td>\n",
              "      <td>...</td>\n",
              "      <td>...</td>\n",
              "      <td>...</td>\n",
              "      <td>...</td>\n",
              "      <td>...</td>\n",
              "    </tr>\n",
              "    <tr>\n",
              "      <th>251254</th>\n",
              "      <td>TAXIGOV_DF</td>\n",
              "      <td>384607</td>\n",
              "      <td>CONCLUÍDA</td>\n",
              "      <td>MCTIC</td>\n",
              "      <td>32.43</td>\n",
              "      <td>102.48</td>\n",
              "      <td>2021-09-21 22:30:48.907</td>\n",
              "      <td>2021-09-21 23:01:03.590</td>\n",
              "      <td>EMI BLOCO E</td>\n",
              "      <td>BRASILIA</td>\n",
              "      <td>DF</td>\n",
              "      <td>Qr 204 Conjunto 15, Brasilia, DF</td>\n",
              "      <td>3.160037</td>\n",
              "    </tr>\n",
              "    <tr>\n",
              "      <th>251255</th>\n",
              "      <td>TAXIGOV_DF</td>\n",
              "      <td>384608</td>\n",
              "      <td>CONCLUÍDA</td>\n",
              "      <td>MCTIC</td>\n",
              "      <td>10.59</td>\n",
              "      <td>33.46</td>\n",
              "      <td>2021-09-21 23:04:45.977</td>\n",
              "      <td>2021-09-21 23:20:31.483</td>\n",
              "      <td>QR 204, CONJUNTO 15</td>\n",
              "      <td>BRASILIA</td>\n",
              "      <td>DF</td>\n",
              "      <td>qno 11</td>\n",
              "      <td>3.159585</td>\n",
              "    </tr>\n",
              "    <tr>\n",
              "      <th>251256</th>\n",
              "      <td>TAXIGOV_DF</td>\n",
              "      <td>384611</td>\n",
              "      <td>CONCLUÍDA</td>\n",
              "      <td>MCTIC</td>\n",
              "      <td>27.41</td>\n",
              "      <td>86.60</td>\n",
              "      <td>2021-09-22 04:13:04.513</td>\n",
              "      <td>2021-09-22 04:40:42.010</td>\n",
              "      <td>Q 405 CONJUNTO 11</td>\n",
              "      <td>BRASÍLIA</td>\n",
              "      <td>DF</td>\n",
              "      <td>BASE AÉREA DE BRASÍLIA - BRASÍLIA / DF</td>\n",
              "      <td>3.159431</td>\n",
              "    </tr>\n",
              "    <tr>\n",
              "      <th>251258</th>\n",
              "      <td>TAXIGOV_DF</td>\n",
              "      <td>384627</td>\n",
              "      <td>CONCLUÍDA</td>\n",
              "      <td>Presidência da República</td>\n",
              "      <td>15.29</td>\n",
              "      <td>48.31</td>\n",
              "      <td>2021-09-22 07:25:07.403</td>\n",
              "      <td>2021-09-22 07:47:45.710</td>\n",
              "      <td>SALA DE AUTORIDADES, BASE AEREA DE BRASILIA</td>\n",
              "      <td>BRASILIA</td>\n",
              "      <td>DF</td>\n",
              "      <td>Aos 7 Bloco D, Cruzeiro, Brasilia, DF</td>\n",
              "      <td>3.159581</td>\n",
              "    </tr>\n",
              "    <tr>\n",
              "      <th>251259</th>\n",
              "      <td>TAXIGOV_DF</td>\n",
              "      <td>384633</td>\n",
              "      <td>CONCLUÍDA</td>\n",
              "      <td>Ministério da Infraestrutura</td>\n",
              "      <td>6.35</td>\n",
              "      <td>20.08</td>\n",
              "      <td>2021-09-22 07:14:50.543</td>\n",
              "      <td>2021-09-22 07:23:25.237</td>\n",
              "      <td>MINISTERIO DOS TRANSPORTES - ANEXO A E B</td>\n",
              "      <td>BRASILIA</td>\n",
              "      <td>DF</td>\n",
              "      <td>SGO Q 1 Ae, Brasilia, DF</td>\n",
              "      <td>3.162205</td>\n",
              "    </tr>\n",
              "  </tbody>\n",
              "</table>\n",
              "<p>235027 rows × 13 columns</p>\n",
              "</div>"
            ],
            "text/plain": [
              "        id_TaxiGov  ...  preco_do_km\n",
              "0       TAXIGOV_DF  ...     3.866667\n",
              "1       TAXIGOV_DF  ...     5.272727\n",
              "2       TAXIGOV_DF  ...     8.285714\n",
              "3       TAXIGOV_DF  ...     3.866667\n",
              "4       TAXIGOV_DF  ...     2.900000\n",
              "...            ...  ...          ...\n",
              "251254  TAXIGOV_DF  ...     3.160037\n",
              "251255  TAXIGOV_DF  ...     3.159585\n",
              "251256  TAXIGOV_DF  ...     3.159431\n",
              "251258  TAXIGOV_DF  ...     3.159581\n",
              "251259  TAXIGOV_DF  ...     3.162205\n",
              "\n",
              "[235027 rows x 13 columns]"
            ]
          },
          "metadata": {},
          "execution_count": 149
        }
      ]
    },
    {
      "cell_type": "code",
      "metadata": {
        "colab": {
          "base_uri": "https://localhost:8080/"
        },
        "id": "OL0_XtLQ_Wbx",
        "outputId": "0e7b5a3c-b180-4c98-8cbb-a637e899e7d0"
      },
      "source": [
        "# 1 - Qual o preço médio das corridas?\n",
        "valor_medio_corrida = cc['Valor_Corrida'].mean()\n",
        "print('O valor médio das corridas é: R$ {:.2f}'.format(valor_medio_corrida))"
      ],
      "execution_count": 150,
      "outputs": [
        {
          "output_type": "stream",
          "name": "stdout",
          "text": [
            "O valor médio das corridas é: R$ 21.50\n"
          ]
        }
      ]
    },
    {
      "cell_type": "code",
      "metadata": {
        "colab": {
          "base_uri": "https://localhost:8080/"
        },
        "id": "wwOuo0GU_Z6_",
        "outputId": "d7ca11e7-7c44-4cc0-a66d-7269db700ed0"
      },
      "source": [
        "# 2 - Qual foi o gasto total com corridas durante o período apurado?\n",
        "primeira_data = cc['Data_Final'].min().strftime('%d/%m/%Y')\n",
        "ultima_data = cc['Data_Final'].max().strftime('%d/%m/%Y')\n",
        "quantidade_corridas = cc['Valor_Corrida'].count()\n",
        "valor_total_corridas = cc['Valor_Corrida'].sum()\n",
        "\n",
        "print('Durante o período que começou {} e terminou {} foram feitas um total de {:,} com um valor total de: R$ {:,.2f}'.format(primeira_data, ultima_data, quantidade_corridas, valor_total_corridas))"
      ],
      "execution_count": 151,
      "outputs": [
        {
          "output_type": "stream",
          "name": "stdout",
          "text": [
            "Durante o período que começou 15/08/2019 e terminou 22/09/2021 foram feitas um total de 235,027 com um valor total de: R$ 5,054,184.59\n"
          ]
        }
      ]
    },
    {
      "cell_type": "code",
      "metadata": {
        "id": "2nXYFo6qrdDI"
      },
      "source": [
        "cc.dtypes"
      ],
      "execution_count": null,
      "outputs": []
    },
    {
      "cell_type": "code",
      "metadata": {
        "colab": {
          "base_uri": "https://localhost:8080/"
        },
        "id": "lSR5aPnivBLb",
        "outputId": "05403937-3681-4b34-8c64-189f946b4774"
      },
      "source": [
        "cc.Valor_Corrida.sum()"
      ],
      "execution_count": 175,
      "outputs": [
        {
          "output_type": "execute_result",
          "data": {
            "text/plain": [
              "5054184.589999999"
            ]
          },
          "metadata": {},
          "execution_count": 175
        }
      ]
    },
    {
      "cell_type": "code",
      "metadata": {
        "id": "ye6U-CXKAoy3",
        "colab": {
          "base_uri": "https://localhost:8080/",
          "height": 295
        },
        "outputId": "f9b2cd4d-2e27-48ed-84c7-037f51cbf0d1"
      },
      "source": [
        "# 3 - Qual a evolução dos gastos com as corridas ano a ano?\n",
        "agrupamento_anual = cc.groupby([cc['Data_Inicio'].dt.year])['Valor_Corrida'].sum().reset_index()\n",
        "agrupamento_anual\n",
        "\n",
        "\n",
        "plt.bar(agrupamento_anual['Data_Inicio'],agrupamento_anual['Valor_Corrida'])\n",
        "\n",
        "plt.title(\"Gastos Anuais\")\n",
        "plt.xlabel(\"Ano\")\n",
        "plt.ylabel(\"Valor total das corridas(milhões de R$)\")\n",
        "plt.show()\n",
        "\n"
      ],
      "execution_count": 178,
      "outputs": [
        {
          "output_type": "display_data",
          "data": {
            "image/png": "[encoded data removed]",
            "text/plain": [
              "<Figure size 432x288 with 1 Axes>"
            ]
          },
          "metadata": {
            "needs_background": "light"
          }
        }
      ]
    },
    {
      "cell_type": "code",
      "metadata": {
        "colab": {
          "base_uri": "https://localhost:8080/",
          "height": 143
        },
        "id": "hMClSNbTs_VY",
        "outputId": "2a5759c5-712a-4100-a891-2ae5ac0401af"
      },
      "source": [
        "agrupamento_anual"
      ],
      "execution_count": 170,
      "outputs": [
        {
          "output_type": "execute_result",
          "data": {
            "text/html": [
              "<div>\n",
              "<style scoped>\n",
              "    .dataframe tbody tr th:only-of-type {\n",
              "        vertical-align: middle;\n",
              "    }\n",
              "\n",
              "    .dataframe tbody tr th {\n",
              "        vertical-align: top;\n",
              "    }\n",
              "\n",
              "    .dataframe thead th {\n",
              "        text-align: right;\n",
              "    }\n",
              "</style>\n",
              "<table border=\"1\" class=\"dataframe\">\n",
              "  <thead>\n",
              "    <tr style=\"text-align: right;\">\n",
              "      <th></th>\n",
              "      <th>Data_Inicio</th>\n",
              "      <th>Valor_Corrida</th>\n",
              "    </tr>\n",
              "  </thead>\n",
              "  <tbody>\n",
              "    <tr>\n",
              "      <th>0</th>\n",
              "      <td>2019</td>\n",
              "      <td>1.479557e+06</td>\n",
              "    </tr>\n",
              "    <tr>\n",
              "      <th>1</th>\n",
              "      <td>2020</td>\n",
              "      <td>2.204065e+06</td>\n",
              "    </tr>\n",
              "    <tr>\n",
              "      <th>2</th>\n",
              "      <td>2021</td>\n",
              "      <td>1.370563e+06</td>\n",
              "    </tr>\n",
              "  </tbody>\n",
              "</table>\n",
              "</div>"
            ],
            "text/plain": [
              "   Data_Inicio  Valor_Corrida\n",
              "0         2019   1.479557e+06\n",
              "1         2020   2.204065e+06\n",
              "2         2021   1.370563e+06"
            ]
          },
          "metadata": {},
          "execution_count": 170
        }
      ]
    },
    {
      "cell_type": "code",
      "metadata": {
        "id": "q5yH-izBBqN6"
      },
      "source": [
        "#agrupando a quantidade de corridas feitas pelos órgãos\n",
        "agrupamento_orgao_valor = cc.groupby('Nome_Orgao')['Valor_Corrida'].count().reset_index()\n",
        "agrupamento_orgao_valor['qtde_corridas'] = agrupamento_orgao_valor['Valor_Corrida']\n",
        "agrupamento_orgao_valor.drop(columns=['Valor_Corrida'], inplace=True)"
      ],
      "execution_count": 153,
      "outputs": []
    },
    {
      "cell_type": "code",
      "metadata": {
        "colab": {
          "base_uri": "https://localhost:8080/",
          "height": 959
        },
        "id": "mavTegvyuvGr",
        "outputId": "5813a9cf-1f33-491b-e4c0-55adf879ce29"
      },
      "source": [
        "agrupamento_orgao_valor"
      ],
      "execution_count": 174,
      "outputs": [
        {
          "output_type": "execute_result",
          "data": {
            "text/html": [
              "<div>\n",
              "<style scoped>\n",
              "    .dataframe tbody tr th:only-of-type {\n",
              "        vertical-align: middle;\n",
              "    }\n",
              "\n",
              "    .dataframe tbody tr th {\n",
              "        vertical-align: top;\n",
              "    }\n",
              "\n",
              "    .dataframe thead th {\n",
              "        text-align: right;\n",
              "    }\n",
              "</style>\n",
              "<table border=\"1\" class=\"dataframe\">\n",
              "  <thead>\n",
              "    <tr style=\"text-align: right;\">\n",
              "      <th></th>\n",
              "      <th>Nome_Orgao</th>\n",
              "      <th>qtde_corridas</th>\n",
              "    </tr>\n",
              "  </thead>\n",
              "  <tbody>\n",
              "    <tr>\n",
              "      <th>0</th>\n",
              "      <td>ABIN</td>\n",
              "      <td>100</td>\n",
              "    </tr>\n",
              "    <tr>\n",
              "      <th>1</th>\n",
              "      <td>Advocacia Geral da União</td>\n",
              "      <td>3980</td>\n",
              "    </tr>\n",
              "    <tr>\n",
              "      <th>2</th>\n",
              "      <td>Arquivo Nacional</td>\n",
              "      <td>86</td>\n",
              "    </tr>\n",
              "    <tr>\n",
              "      <th>3</th>\n",
              "      <td>CENSIPAM</td>\n",
              "      <td>398</td>\n",
              "    </tr>\n",
              "    <tr>\n",
              "      <th>4</th>\n",
              "      <td>Controladoria-Geral da União</td>\n",
              "      <td>2173</td>\n",
              "    </tr>\n",
              "    <tr>\n",
              "      <th>5</th>\n",
              "      <td>IBICT - Instituto Brasileiro de Informação em ...</td>\n",
              "      <td>324</td>\n",
              "    </tr>\n",
              "    <tr>\n",
              "      <th>6</th>\n",
              "      <td>IMPRENSA NACIONAL</td>\n",
              "      <td>2189</td>\n",
              "    </tr>\n",
              "    <tr>\n",
              "      <th>7</th>\n",
              "      <td>Instituto Nacional de Meteorologia</td>\n",
              "      <td>677</td>\n",
              "    </tr>\n",
              "    <tr>\n",
              "      <th>8</th>\n",
              "      <td>MAPA - Ministério da Agricultura - Pecuária e ...</td>\n",
              "      <td>14199</td>\n",
              "    </tr>\n",
              "    <tr>\n",
              "      <th>9</th>\n",
              "      <td>MCTIC</td>\n",
              "      <td>7517</td>\n",
              "    </tr>\n",
              "    <tr>\n",
              "      <th>10</th>\n",
              "      <td>MINISTERIO DO DESENVOLVIMENTO REGIONAL</td>\n",
              "      <td>17676</td>\n",
              "    </tr>\n",
              "    <tr>\n",
              "      <th>11</th>\n",
              "      <td>Ministério Cidadania</td>\n",
              "      <td>21698</td>\n",
              "    </tr>\n",
              "    <tr>\n",
              "      <th>12</th>\n",
              "      <td>Ministério da Defesa</td>\n",
              "      <td>2091</td>\n",
              "    </tr>\n",
              "    <tr>\n",
              "      <th>13</th>\n",
              "      <td>Ministério da Economia</td>\n",
              "      <td>58784</td>\n",
              "    </tr>\n",
              "    <tr>\n",
              "      <th>14</th>\n",
              "      <td>Ministério da Educação</td>\n",
              "      <td>5827</td>\n",
              "    </tr>\n",
              "    <tr>\n",
              "      <th>15</th>\n",
              "      <td>Ministério da Infraestrutura</td>\n",
              "      <td>9440</td>\n",
              "    </tr>\n",
              "    <tr>\n",
              "      <th>16</th>\n",
              "      <td>Ministério da Justiça</td>\n",
              "      <td>9558</td>\n",
              "    </tr>\n",
              "    <tr>\n",
              "      <th>17</th>\n",
              "      <td>Ministério da Mulher</td>\n",
              "      <td>10080</td>\n",
              "    </tr>\n",
              "    <tr>\n",
              "      <th>18</th>\n",
              "      <td>Ministério da Saúde</td>\n",
              "      <td>22600</td>\n",
              "    </tr>\n",
              "    <tr>\n",
              "      <th>19</th>\n",
              "      <td>Ministério das ComunicaçÃµes</td>\n",
              "      <td>1055</td>\n",
              "    </tr>\n",
              "    <tr>\n",
              "      <th>20</th>\n",
              "      <td>Ministério das Relaçoes Exteriores</td>\n",
              "      <td>2274</td>\n",
              "    </tr>\n",
              "    <tr>\n",
              "      <th>21</th>\n",
              "      <td>Ministério de Minas e Energia</td>\n",
              "      <td>2492</td>\n",
              "    </tr>\n",
              "    <tr>\n",
              "      <th>22</th>\n",
              "      <td>Ministério do Meio Ambiente</td>\n",
              "      <td>2924</td>\n",
              "    </tr>\n",
              "    <tr>\n",
              "      <th>23</th>\n",
              "      <td>Ministério do Turismo</td>\n",
              "      <td>8689</td>\n",
              "    </tr>\n",
              "    <tr>\n",
              "      <th>24</th>\n",
              "      <td>Polícia Rodoviária Federal</td>\n",
              "      <td>1279</td>\n",
              "    </tr>\n",
              "    <tr>\n",
              "      <th>25</th>\n",
              "      <td>Presidência da República</td>\n",
              "      <td>24209</td>\n",
              "    </tr>\n",
              "    <tr>\n",
              "      <th>26</th>\n",
              "      <td>Serviço Florestal Brasileiro</td>\n",
              "      <td>1465</td>\n",
              "    </tr>\n",
              "    <tr>\n",
              "      <th>27</th>\n",
              "      <td>VIP SERVICE</td>\n",
              "      <td>1</td>\n",
              "    </tr>\n",
              "    <tr>\n",
              "      <th>28</th>\n",
              "      <td>Vice-Presidência da República</td>\n",
              "      <td>1242</td>\n",
              "    </tr>\n",
              "  </tbody>\n",
              "</table>\n",
              "</div>"
            ],
            "text/plain": [
              "                                           Nome_Orgao  qtde_corridas\n",
              "0                                                ABIN            100\n",
              "1                            Advocacia Geral da União           3980\n",
              "2                                    Arquivo Nacional             86\n",
              "3                                            CENSIPAM            398\n",
              "4                        Controladoria-Geral da União           2173\n",
              "5   IBICT - Instituto Brasileiro de Informação em ...            324\n",
              "6                                   IMPRENSA NACIONAL           2189\n",
              "7                  Instituto Nacional de Meteorologia            677\n",
              "8   MAPA - Ministério da Agricultura - Pecuária e ...          14199\n",
              "9                                               MCTIC           7517\n",
              "10             MINISTERIO DO DESENVOLVIMENTO REGIONAL          17676\n",
              "11                               Ministério Cidadania          21698\n",
              "12                               Ministério da Defesa           2091\n",
              "13                             Ministério da Economia          58784\n",
              "14                             Ministério da Educação           5827\n",
              "15                       Ministério da Infraestrutura           9440\n",
              "16                              Ministério da Justiça           9558\n",
              "17                               Ministério da Mulher          10080\n",
              "18                                Ministério da Saúde          22600\n",
              "19                       Ministério das ComunicaçÃµes           1055\n",
              "20                 Ministério das Relaçoes Exteriores           2274\n",
              "21                      Ministério de Minas e Energia           2492\n",
              "22                        Ministério do Meio Ambiente           2924\n",
              "23                              Ministério do Turismo           8689\n",
              "24                         Polícia Rodoviária Federal           1279\n",
              "25                           Presidência da República          24209\n",
              "26                       Serviço Florestal Brasileiro           1465\n",
              "27                                        VIP SERVICE              1\n",
              "28                      Vice-Presidência da República           1242"
            ]
          },
          "metadata": {},
          "execution_count": 174
        }
      ]
    },
    {
      "cell_type": "code",
      "metadata": {
        "colab": {
          "base_uri": "https://localhost:8080/",
          "height": 325
        },
        "id": "qTJTB3zIGcUy",
        "outputId": "e106400f-bcc8-48a3-fbc3-99a34b1ff8b4"
      },
      "source": [
        "# 4 - Qual foi o ranking com os 5 órgãos que mais usaram o serviço?\n",
        "top_5_mais_corridas = agrupamento_orgao_valor.nlargest(5,'qtde_corridas')\n",
        "plt.barh(top_5_mais_corridas['Nome_Orgao'],top_5_mais_corridas['qtde_corridas'])\n",
        "plt.yticks(rotation=45)\n",
        "\n",
        "plt.title(\"Top 5 Órgão que mais fizeram corridas\")\n",
        "plt.xlabel(\"Quantidade de Corridas\")\n",
        "plt.ylabel(\"Nome do Órgão\")\n",
        "plt.show()"
      ],
      "execution_count": 173,
      "outputs": [
        {
          "output_type": "display_data",
          "data": {
            "image/png": "[encoded data removed]",
            "text/plain": [
              "<Figure size 432x288 with 1 Axes>"
            ]
          },
          "metadata": {
            "needs_background": "light"
          }
        }
      ]
    },
    {
      "cell_type": "code",
      "metadata": {
        "colab": {
          "base_uri": "https://localhost:8080/"
        },
        "id": "egeyNDqLa3Am",
        "outputId": "93dedb30-a1d4-4732-b7b0-edddc18b9119"
      },
      "source": [
        "# 5 - Qual o preço da corrida mais cara?\n",
        "valor_mais_cara = cc['Valor_Corrida'].max()\n",
        "\n",
        "print('A corrida mais cara custou: R$ {:.2f}.'.format(valor_mais_cara))"
      ],
      "execution_count": 156,
      "outputs": [
        {
          "output_type": "stream",
          "name": "stdout",
          "text": [
            "A corrida mais cara custou: R$ 50605.00.\n"
          ]
        }
      ]
    },
    {
      "cell_type": "code",
      "metadata": {
        "id": "wSiyfqLLdonl",
        "colab": {
          "base_uri": "https://localhost:8080/"
        },
        "outputId": "c2d9385f-230d-4a1b-80f5-e6541eaafca4"
      },
      "source": [
        "# 6 - Qual o preço da corrida mais barata?\n",
        "valor_mais_barata = cc['Valor_Corrida'].min()\n",
        "\n",
        "print('A corrida mais cara custou: R$ {:.2f}.'.format(valor_mais_barata))"
      ],
      "execution_count": 157,
      "outputs": [
        {
          "output_type": "stream",
          "name": "stdout",
          "text": [
            "A corrida mais cara custou: R$ 0.62.\n"
          ]
        }
      ]
    }
  ]
}